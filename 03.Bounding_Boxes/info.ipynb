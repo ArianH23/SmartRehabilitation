{
 "cells": [
  {
   "cell_type": "code",
   "execution_count": 2,
   "metadata": {},
   "outputs": [],
   "source": [
    "import pandas as pd"
   ]
  },
  {
   "cell_type": "code",
   "execution_count": 11,
   "metadata": {},
   "outputs": [],
   "source": [
    "df = pd.read_csv('data/MPandYOLO.csv')\n",
    "df.drop('col9', inplace=True, axis=1)"
   ]
  },
  {
   "cell_type": "code",
   "execution_count": 12,
   "metadata": {},
   "outputs": [
    {
     "data": {
      "text/html": [
       "<div>\n",
       "<style scoped>\n",
       "    .dataframe tbody tr th:only-of-type {\n",
       "        vertical-align: middle;\n",
       "    }\n",
       "\n",
       "    .dataframe tbody tr th {\n",
       "        vertical-align: top;\n",
       "    }\n",
       "\n",
       "    .dataframe thead th {\n",
       "        text-align: right;\n",
       "    }\n",
       "</style>\n",
       "<table border=\"1\" class=\"dataframe\">\n",
       "  <thead>\n",
       "    <tr style=\"text-align: right;\">\n",
       "      <th></th>\n",
       "      <th>col1</th>\n",
       "      <th>col2</th>\n",
       "      <th>col3</th>\n",
       "      <th>col4</th>\n",
       "      <th>col5</th>\n",
       "      <th>col6</th>\n",
       "      <th>col7</th>\n",
       "      <th>col8</th>\n",
       "      <th>col10</th>\n",
       "    </tr>\n",
       "  </thead>\n",
       "  <tbody>\n",
       "    <tr>\n",
       "      <th>0</th>\n",
       "      <td>1026</td>\n",
       "      <td>463</td>\n",
       "      <td>212</td>\n",
       "      <td>203</td>\n",
       "      <td>0</td>\n",
       "      <td>0</td>\n",
       "      <td>0</td>\n",
       "      <td>0</td>\n",
       "      <td>none</td>\n",
       "    </tr>\n",
       "    <tr>\n",
       "      <th>1</th>\n",
       "      <td>694</td>\n",
       "      <td>514</td>\n",
       "      <td>215</td>\n",
       "      <td>162</td>\n",
       "      <td>0</td>\n",
       "      <td>0</td>\n",
       "      <td>0</td>\n",
       "      <td>0</td>\n",
       "      <td>none</td>\n",
       "    </tr>\n",
       "    <tr>\n",
       "      <th>2</th>\n",
       "      <td>1109</td>\n",
       "      <td>584</td>\n",
       "      <td>170</td>\n",
       "      <td>146</td>\n",
       "      <td>0</td>\n",
       "      <td>0</td>\n",
       "      <td>0</td>\n",
       "      <td>0</td>\n",
       "      <td>none</td>\n",
       "    </tr>\n",
       "    <tr>\n",
       "      <th>3</th>\n",
       "      <td>1325</td>\n",
       "      <td>422</td>\n",
       "      <td>133</td>\n",
       "      <td>148</td>\n",
       "      <td>0</td>\n",
       "      <td>0</td>\n",
       "      <td>0</td>\n",
       "      <td>0</td>\n",
       "      <td>none</td>\n",
       "    </tr>\n",
       "    <tr>\n",
       "      <th>4</th>\n",
       "      <td>849</td>\n",
       "      <td>513</td>\n",
       "      <td>120</td>\n",
       "      <td>193</td>\n",
       "      <td>0</td>\n",
       "      <td>0</td>\n",
       "      <td>0</td>\n",
       "      <td>0</td>\n",
       "      <td>none</td>\n",
       "    </tr>\n",
       "    <tr>\n",
       "      <th>...</th>\n",
       "      <td>...</td>\n",
       "      <td>...</td>\n",
       "      <td>...</td>\n",
       "      <td>...</td>\n",
       "      <td>...</td>\n",
       "      <td>...</td>\n",
       "      <td>...</td>\n",
       "      <td>...</td>\n",
       "      <td>...</td>\n",
       "    </tr>\n",
       "    <tr>\n",
       "      <th>14212</th>\n",
       "      <td>1200</td>\n",
       "      <td>449</td>\n",
       "      <td>246</td>\n",
       "      <td>290</td>\n",
       "      <td>1542</td>\n",
       "      <td>478</td>\n",
       "      <td>161</td>\n",
       "      <td>132</td>\n",
       "      <td>precision</td>\n",
       "    </tr>\n",
       "    <tr>\n",
       "      <th>14213</th>\n",
       "      <td>1092</td>\n",
       "      <td>245</td>\n",
       "      <td>239</td>\n",
       "      <td>113</td>\n",
       "      <td>1302</td>\n",
       "      <td>457</td>\n",
       "      <td>135</td>\n",
       "      <td>313</td>\n",
       "      <td>precision</td>\n",
       "    </tr>\n",
       "    <tr>\n",
       "      <th>14214</th>\n",
       "      <td>1155</td>\n",
       "      <td>345</td>\n",
       "      <td>214</td>\n",
       "      <td>207</td>\n",
       "      <td>1400</td>\n",
       "      <td>385</td>\n",
       "      <td>59</td>\n",
       "      <td>285</td>\n",
       "      <td>precision</td>\n",
       "    </tr>\n",
       "    <tr>\n",
       "      <th>14215</th>\n",
       "      <td>610</td>\n",
       "      <td>658</td>\n",
       "      <td>300</td>\n",
       "      <td>234</td>\n",
       "      <td>1372</td>\n",
       "      <td>488</td>\n",
       "      <td>46</td>\n",
       "      <td>249</td>\n",
       "      <td>precision</td>\n",
       "    </tr>\n",
       "    <tr>\n",
       "      <th>14216</th>\n",
       "      <td>508</td>\n",
       "      <td>382</td>\n",
       "      <td>145</td>\n",
       "      <td>89</td>\n",
       "      <td>764</td>\n",
       "      <td>577</td>\n",
       "      <td>185</td>\n",
       "      <td>230</td>\n",
       "      <td>precision</td>\n",
       "    </tr>\n",
       "  </tbody>\n",
       "</table>\n",
       "<p>14217 rows × 9 columns</p>\n",
       "</div>"
      ],
      "text/plain": [
       "       col1  col2  col3  col4  col5  col6  col7  col8      col10\n",
       "0      1026   463   212   203     0     0     0     0       none\n",
       "1       694   514   215   162     0     0     0     0       none\n",
       "2      1109   584   170   146     0     0     0     0       none\n",
       "3      1325   422   133   148     0     0     0     0       none\n",
       "4       849   513   120   193     0     0     0     0       none\n",
       "...     ...   ...   ...   ...   ...   ...   ...   ...        ...\n",
       "14212  1200   449   246   290  1542   478   161   132  precision\n",
       "14213  1092   245   239   113  1302   457   135   313  precision\n",
       "14214  1155   345   214   207  1400   385    59   285  precision\n",
       "14215   610   658   300   234  1372   488    46   249  precision\n",
       "14216   508   382   145    89   764   577   185   230  precision\n",
       "\n",
       "[14217 rows x 9 columns]"
      ]
     },
     "execution_count": 12,
     "metadata": {},
     "output_type": "execute_result"
    }
   ],
   "source": [
    "df"
   ]
  },
  {
   "cell_type": "code",
   "execution_count": 13,
   "metadata": {},
   "outputs": [],
   "source": [
    "dfnone = df[df.col10=='none']\n",
    "dfpower = df[df.col10=='power']\n",
    "dfprec = df[df.col10=='precision']"
   ]
  },
  {
   "cell_type": "code",
   "execution_count": 22,
   "metadata": {},
   "outputs": [
    {
     "name": "stdout",
     "output_type": "stream",
     "text": [
      "Percentage of \"power\" images which have an object detection 43.43327702702703\n"
     ]
    }
   ],
   "source": [
    "res = 1-dfpower[dfpower.col5==0].shape[0]/dfpower.shape[0]\n",
    "print(f'Percentage of \"power\" images which have an object detection {res*100}')"
   ]
  },
  {
   "cell_type": "code",
   "execution_count": 23,
   "metadata": {},
   "outputs": [
    {
     "name": "stdout",
     "output_type": "stream",
     "text": [
      "Percentage of \"precision\" images which have an object detection 72.85296981499513\n"
     ]
    }
   ],
   "source": [
    "res = 1-dfprec[dfprec.col5==0].shape[0]/dfprec.shape[0]\n",
    "print(f'Percentage of \"precision\" images which have an object detection {res*100}')"
   ]
  },
  {
   "cell_type": "code",
   "execution_count": 25,
   "metadata": {},
   "outputs": [
    {
     "name": "stdout",
     "output_type": "stream",
     "text": [
      "Percentage of \"none\" images which have an object detection 6.948918545789229\n"
     ]
    }
   ],
   "source": [
    "res = 1-dfnone[dfnone.col5==0].shape[0]/dfnone.shape[0]\n",
    "print(f'Percentage of \"none\" images which have an object detection {res*100}')"
   ]
  },
  {
   "cell_type": "code",
   "execution_count": null,
   "metadata": {},
   "outputs": [],
   "source": []
  }
 ],
 "metadata": {
  "kernelspec": {
   "display_name": "base",
   "language": "python",
   "name": "python3"
  },
  "language_info": {
   "codemirror_mode": {
    "name": "ipython",
    "version": 3
   },
   "file_extension": ".py",
   "mimetype": "text/x-python",
   "name": "python",
   "nbconvert_exporter": "python",
   "pygments_lexer": "ipython3",
   "version": "3.8.5"
  },
  "orig_nbformat": 4,
  "vscode": {
   "interpreter": {
    "hash": "9842e87476f895c725e3f61f6d6f46de0fddc942def9623169c3a9b45c75e6fc"
   }
  }
 },
 "nbformat": 4,
 "nbformat_minor": 2
}
